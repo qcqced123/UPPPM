{
 "cells": [
  {
   "cell_type": "code",
   "execution_count": 1,
   "id": "49aaa006-3e50-409e-8479-0c8b058cf22c",
   "metadata": {},
   "outputs": [],
   "source": [
    "import pandas as pd \n",
    "import numpy as np"
   ]
  },
  {
   "cell_type": "code",
   "execution_count": 3,
   "id": "7e03acf4-7f60-485f-8b12-a3b332c0a989",
   "metadata": {},
   "outputs": [
    {
     "data": {
      "text/plain": [
       "array([0.48, 0.56, 0.24, 0.22, 0.52, 0.15])"
      ]
     },
     "execution_count": 3,
     "metadata": {},
     "output_type": "execute_result"
    }
   ],
   "source": [
    "target_loss = np.array([0.48, 0.56, 0.24, 0.22, 0.52, 0.15])\n",
    "target_loss"
   ]
  },
  {
   "cell_type": "code",
   "execution_count": 15,
   "id": "8777f86b-b611-4b3e-8a67-1463ee3e36cb",
   "metadata": {},
   "outputs": [
    {
     "data": {
      "text/plain": [
       "(2.17, 0.36166666666666664)"
      ]
     },
     "execution_count": 15,
     "metadata": {},
     "output_type": "execute_result"
    }
   ],
   "source": [
    "RMSE = target_loss.sum()\n",
    "MCRMSE = target_loss.mean()\n",
    "RMSE, MCRMSE"
   ]
  },
  {
   "cell_type": "code",
   "execution_count": 23,
   "id": "57a1c879-0e96-4b87-b5c7-6b2fc2e9e0c5",
   "metadata": {},
   "outputs": [],
   "source": [
    "loss_rate = np.array([0.21, 0.21, 0.10, 0.16, 0.16, 0.16])\n",
    "weighted_RMSE= np.multiply(target_loss, loss_rate)*6 # RMSE\n",
    "weighted_MCRMSE=np.multiply(target_loss, loss_rate).sum() # MCRMSE with apply loss rate"
   ]
  },
  {
   "cell_type": "code",
   "execution_count": 25,
   "id": "fbd4672f-36b6-432c-9503-47306dd8314b",
   "metadata": {},
   "outputs": [
    {
     "data": {
      "text/plain": [
       "(2.3088000000000006, 0.3848)"
      ]
     },
     "execution_count": 25,
     "metadata": {},
     "output_type": "execute_result"
    }
   ],
   "source": [
    "weighted_RMSE.sum(), weighted_MCRMSE"
   ]
  },
  {
   "cell_type": "code",
   "execution_count": 26,
   "id": "ea85ca4f-e3e3-4746-8c63-e8271a2c7dd9",
   "metadata": {},
   "outputs": [],
   "source": [
    "reference_loss = [0.4922, 0.4643, 0.4309, 0.4589, 0.4701, 0.4598]\n",
    "reference_rate = [0.21, 0.16, 0.10, 0.16, 0.21, 0.16]"
   ]
  },
  {
   "cell_type": "code",
   "execution_count": 28,
   "id": "fb5e7a3f-08ff-4755-bade-76b3bc52a87d",
   "metadata": {},
   "outputs": [
    {
     "data": {
      "text/plain": [
       "0.466453"
      ]
     },
     "execution_count": 28,
     "metadata": {},
     "output_type": "execute_result"
    }
   ],
   "source": [
    "weighted_MCRMSE = np.multiply(reference_loss, reference_rate).sum()\n",
    "weighted_MCRMSE"
   ]
  },
  {
   "cell_type": "code",
   "execution_count": 33,
   "id": "58e3d9c0-9a0c-49da-9859-4a9a303ea28b",
   "metadata": {},
   "outputs": [
    {
     "data": {
      "text/plain": [
       "0.46269999999999994"
      ]
     },
     "execution_count": 33,
     "metadata": {},
     "output_type": "execute_result"
    }
   ],
   "source": [
    "sum(reference_loss)/6"
   ]
  },
  {
   "cell_type": "code",
   "execution_count": null,
   "id": "56c97765-92a7-41be-9f31-525fd26966e2",
   "metadata": {},
   "outputs": [],
   "source": []
  }
 ],
 "metadata": {
  "kernelspec": {
   "display_name": "Python 3 (ipykernel)",
   "language": "python",
   "name": "python3"
  },
  "language_info": {
   "codemirror_mode": {
    "name": "ipython",
    "version": 3
   },
   "file_extension": ".py",
   "mimetype": "text/x-python",
   "name": "python",
   "nbconvert_exporter": "python",
   "pygments_lexer": "ipython3",
   "version": "3.9.4"
  }
 },
 "nbformat": 4,
 "nbformat_minor": 5
}
